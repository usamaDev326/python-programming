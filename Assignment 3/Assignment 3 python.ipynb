{
 "cells": [
  {
   "cell_type": "code",
   "execution_count": 7,
   "id": "76f2357c",
   "metadata": {},
   "outputs": [
    {
     "name": "stdout",
     "output_type": "stream",
     "text": [
      "Twinkle, twinkle, little star, \n",
      "         How I Wonder what you are!\n",
      "                  Up above the worls so high, \n",
      "                  Like a diamond in the sky.\n",
      "Twinkle, twinkle, little star, \n",
      "         How I Wonder what you are!\n"
     ]
    }
   ],
   "source": [
    "# Question 1\n",
    "print( \"Twinkle, twinkle, little star, \"\n",
    "      \"\\n         How I Wonder what you are!\"\n",
    "      \"\\n                  Up above the worls so high, \" \n",
    "      \"\\n                  Like a diamond in the sky.\"\n",
    "      \"\\nTwinkle, twinkle, little star, \"\n",
    "      \"\\n         How I Wonder what you are!\"\n",
    "      )\n"
   ]
  },
  {
   "cell_type": "code",
   "execution_count": 8,
   "id": "53352a89",
   "metadata": {},
   "outputs": [
    {
     "name": "stdout",
     "output_type": "stream",
     "text": [
      "***You Are Using Python Version is***\n",
      "3.8.8 (default, Apr 13 2021, 15:08:03) [MSC v.1916 64 bit (AMD64)]\n"
     ]
    }
   ],
   "source": [
    "# Question 2\n",
    "import sys\n",
    "print(\"***You Are Using Python Version is***\")\n",
    "print(sys.version)"
   ]
  },
  {
   "cell_type": "code",
   "execution_count": 9,
   "id": "d1b94a98",
   "metadata": {},
   "outputs": [
    {
     "name": "stdout",
     "output_type": "stream",
     "text": [
      "Current Date & Time is:\n",
      "21-10-23  20:54:49\n"
     ]
    }
   ],
   "source": [
    "# Question 3\n",
    "import datetime\n",
    "now=datetime.datetime.now()\n",
    "print(\"Current Date & Time is:\")\n",
    "print(now.strftime(\"%y-%m-%d  %H:%M:%S\"))"
   ]
  },
  {
   "cell_type": "code",
   "execution_count": 10,
   "id": "ddacff92",
   "metadata": {},
   "outputs": [
    {
     "name": "stdout",
     "output_type": "stream",
     "text": [
      "Enter the Area value: \n",
      "34\n",
      "The Radius of the Area is: 3631.6811075498013\n"
     ]
    }
   ],
   "source": [
    "# Question 4\n",
    "import  math\n",
    "radius = float(input(\"Enter the Area value: \\n\"))\n",
    "area = math.pi * radius * radius\n",
    "print(\"The Radius of the Area is: {0}\".format(area))"
   ]
  },
  {
   "cell_type": "code",
   "execution_count": 11,
   "id": "e89431cc",
   "metadata": {},
   "outputs": [
    {
     "name": "stdout",
     "output_type": "stream",
     "text": [
      "Enter First Name:\n",
      "usama \n",
      "Enter Last Name:\n",
      "ayoob\n",
      "ayoob usama \n"
     ]
    }
   ],
   "source": [
    "# Question 5\n",
    "fname=input(\"Enter First Name:\\n\")\n",
    "lname=input(\"Enter Last Name:\\n\")\n",
    "print(lname,fname)"
   ]
  },
  {
   "cell_type": "code",
   "execution_count": 12,
   "id": "e33d4edd",
   "metadata": {},
   "outputs": [
    {
     "name": "stdout",
     "output_type": "stream",
     "text": [
      "Enter 1st Number:\n",
      "23\n",
      "Enter 2nd Number:\n",
      "23\n",
      "46\n"
     ]
    }
   ],
   "source": [
    "# Question 6\n",
    "num1=int(input(\"Enter 1st Number:\\n\"))\n",
    "num2=int(input(\"Enter 2nd Number:\\n\"))\n",
    "sum=(num1+num2)\n",
    "print(sum)"
   ]
  },
  {
   "cell_type": "code",
   "execution_count": 13,
   "id": "12033dda",
   "metadata": {},
   "outputs": [
    {
     "name": "stdout",
     "output_type": "stream",
     "text": [
      "Enter a Number56\n",
      "56 is an Even Numbet\n"
     ]
    }
   ],
   "source": [
    "# Question 7\n",
    "num=int(input(\"Enter a Number\"))\n",
    "remainder = num %2\n",
    "if (remainder == 0):\n",
    "    print (num,\"is an Even Numbet\")\n",
    "else:\n",
    "    print (num,\"is an Odd Numbet\")"
   ]
  },
  {
   "cell_type": "code",
   "execution_count": 20,
   "id": "468720a7",
   "metadata": {},
   "outputs": [
    {
     "name": "stdout",
     "output_type": "stream",
     "text": [
      "Enter your English Number45\n",
      "Enter your Islamiat Number55\n",
      "Enter your Urdu Number45\n",
      "Enter your Math Number66\n",
      "Enter your Sindhi Number67\n",
      "Your percentage is 55\n",
      "Your Grade is D\n"
     ]
    }
   ],
   "source": [
    "# Question 8\n",
    "english=int(input(\"Enter your English Number\"))\n",
    "islamiat=int(input(\"Enter your Islamiat Number\"))\n",
    "urdu=int(input(\"Enter your Urdu Number\"))\n",
    "math=int(input(\"Enter your Math Number\"))\n",
    "sindhi=int(input(\"Enter your Sindhi Number\"))\n",
    "\n",
    "total= (english+islamiat+urdu+math+sindhi)\n",
    "percent= int(total/500*100)\n",
    "print(\"Your percentage is\",percent)\n",
    "\n",
    "if  ( percent > 90):\n",
    "    print(\"Your Grade is A+\")\n",
    "elif (percent >= 80 ):\n",
    "    print(\"Your Grade is A\")\n",
    "elif (percent >= 70 ):\n",
    "    print(\"Your Grade is B+\")\n",
    "elif (percent >= 60 ):\n",
    "    print(\"Your Grade is C\")\n",
    "elif (percent >= 50 ):\n",
    "    print(\"Your Grade is D\")\n",
    "elif (percent >= 40 ):\n",
    "    print(\"Your Grade is E\")\n",
    "else:\n",
    "    print(\"Your Are Fail\")"
   ]
  },
  {
   "cell_type": "code",
   "execution_count": 14,
   "id": "bce431c9",
   "metadata": {},
   "outputs": [
    {
     "name": "stdout",
     "output_type": "stream",
     "text": [
      "7\n"
     ]
    }
   ],
   "source": [
    "# Question 9\n",
    "list =[ \"Usama\" ,\"python\",\"pakistan\",\"Jawan\",\"kerale\",6, 8,]\n",
    "print(len(list))"
   ]
  },
  {
   "cell_type": "code",
   "execution_count": 23,
   "id": "90ab2159",
   "metadata": {},
   "outputs": [
    {
     "ename": "TypeError",
     "evalue": "'int' object is not callable",
     "output_type": "error",
     "traceback": [
      "\u001b[1;31m---------------------------------------------------------------------------\u001b[0m",
      "\u001b[1;31mTypeError\u001b[0m                                 Traceback (most recent call last)",
      "\u001b[1;32m<ipython-input-23-80cdf7bd018c>\u001b[0m in \u001b[0;36m<module>\u001b[1;34m\u001b[0m\n\u001b[0;32m      1\u001b[0m \u001b[1;31m# Question 10\u001b[0m\u001b[1;33m\u001b[0m\u001b[1;33m\u001b[0m\u001b[1;33m\u001b[0m\u001b[0m\n\u001b[0;32m      2\u001b[0m \u001b[0mlist\u001b[0m\u001b[1;33m=\u001b[0m\u001b[1;33m[\u001b[0m\u001b[1;36m1\u001b[0m\u001b[1;33m,\u001b[0m\u001b[1;36m1\u001b[0m\u001b[1;33m,\u001b[0m\u001b[1;36m2\u001b[0m\u001b[1;33m,\u001b[0m\u001b[1;36m3\u001b[0m\u001b[1;33m,\u001b[0m\u001b[1;36m5\u001b[0m\u001b[1;33m,\u001b[0m\u001b[1;36m8\u001b[0m\u001b[1;33m,\u001b[0m\u001b[1;36m13\u001b[0m\u001b[1;33m,\u001b[0m\u001b[1;36m21\u001b[0m\u001b[1;33m,\u001b[0m\u001b[1;36m34\u001b[0m\u001b[1;33m,\u001b[0m\u001b[1;36m55\u001b[0m\u001b[1;33m,\u001b[0m\u001b[1;36m89\u001b[0m\u001b[1;33m]\u001b[0m\u001b[1;33m\u001b[0m\u001b[1;33m\u001b[0m\u001b[0m\n\u001b[1;32m----> 3\u001b[1;33m \u001b[0mprint\u001b[0m\u001b[1;33m(\u001b[0m\u001b[0msum\u001b[0m\u001b[1;33m(\u001b[0m\u001b[0mlist\u001b[0m\u001b[1;33m)\u001b[0m\u001b[1;33m)\u001b[0m\u001b[1;33m\u001b[0m\u001b[1;33m\u001b[0m\u001b[0m\n\u001b[0m\u001b[0;32m      4\u001b[0m \u001b[1;33m\u001b[0m\u001b[0m\n\u001b[0;32m      5\u001b[0m \u001b[1;31m# the code is workimg in pycham jetbrains\u001b[0m\u001b[1;33m\u001b[0m\u001b[1;33m\u001b[0m\u001b[1;33m\u001b[0m\u001b[0m\n",
      "\u001b[1;31mTypeError\u001b[0m: 'int' object is not callable"
     ]
    }
   ],
   "source": [
    "# Question 10\n",
    "list=[1,1,2,3,5,8,13,21,34,55,89]\n",
    "print(sum(list))\n",
    "\n",
    "# the code is workimg in pycham jetbrains"
   ]
  },
  {
   "cell_type": "code",
   "execution_count": 21,
   "id": "5f67b798",
   "metadata": {},
   "outputs": [
    {
     "name": "stdout",
     "output_type": "stream",
     "text": [
      "57\n"
     ]
    }
   ],
   "source": [
    "# Question 11\n",
    "list1=[1,3,2,4,4,5,7,6,6,57,4]\n",
    "print(max(list1))"
   ]
  },
  {
   "cell_type": "code",
   "execution_count": 22,
   "id": "3fbd020a",
   "metadata": {},
   "outputs": [
    {
     "name": "stdout",
     "output_type": "stream",
     "text": [
      "1 1 2 3 "
     ]
    }
   ],
   "source": [
    "# Question 12\n",
    "list=[1,1,2,3,5,8,13,21,34,55,89]\n",
    "for item in list:\n",
    " if   item < 5:\n",
    "  print(item,end=\" \")"
   ]
  },
  {
   "cell_type": "code",
   "execution_count": null,
   "id": "8a342d56",
   "metadata": {},
   "outputs": [],
   "source": []
  }
 ],
 "metadata": {
  "kernelspec": {
   "display_name": "Python 3",
   "language": "python",
   "name": "python3"
  },
  "language_info": {
   "codemirror_mode": {
    "name": "ipython",
    "version": 3
   },
   "file_extension": ".py",
   "mimetype": "text/x-python",
   "name": "python",
   "nbconvert_exporter": "python",
   "pygments_lexer": "ipython3",
   "version": "3.8.8"
  }
 },
 "nbformat": 4,
 "nbformat_minor": 5
}
